{
 "cells": [
  {
   "cell_type": "code",
   "execution_count": 3,
   "id": "b07ebbd2",
   "metadata": {},
   "outputs": [],
   "source": [
    "from mlx_lm import load, generate"
   ]
  },
  {
   "cell_type": "code",
   "execution_count": 4,
   "id": "754b3008",
   "metadata": {},
   "outputs": [
    {
     "name": "stdout",
     "output_type": "stream",
     "text": [
      "==========\n",
      "\n",
      "\n",
      "QLoRA stands for \"Quasiquantic Localized Randomized Anomaly Detection,\" which is a complex name for a simple concept. In simpler terms, QLoRA is a machine learning algorithm designed to detect anomalies or unusual patterns in data.\n",
      "\n",
      "Anomaly detection is a common task in data analysis, and it involves identifying data points that deviate significantly from the norm. For example, in a dataset of credit card transactions, fraudulent transactions would be considered anomalies.\n",
      "\n",
      "QLoRA works by learning the normal patterns in the data and then flagging any data points that deviate too far from those patterns. It does this by analyzing the local neighborhood of each data point and comparing it to the neighborhoods of nearby points. If a data point's neighborhood is significantly different from those of its neighbors, QLoRA flags it as an anomaly.\n",
      "\n",
      "The quasiquantic and localized parts of the name refer to the fact that QLoRA is able to adapt to changing patterns in the data and can focus its analysis on specific regions of the data, rather than looking at the data as a whole. The randomized part refers to the fact that QLoRA uses a probabilistic\n",
      "==========\n",
      "Prompt: 10 tokens, 31.839 tokens-per-sec\n",
      "Generation: 256 tokens, 14.697 tokens-per-sec\n",
      "Peak memory: 4.360 GB\n",
      "\n",
      "\n",
      "QLoRA stands for \"Quasiquantic Localized Randomized Anomaly Detection,\" which is a complex name for a simple concept. In simpler terms, QLoRA is a machine learning algorithm designed to detect anomalies or unusual patterns in data.\n",
      "\n",
      "Anomaly detection is a common task in data analysis, and it involves identifying data points that deviate significantly from the norm. For example, in a dataset of credit card transactions, fraudulent transactions would be considered anomalies.\n",
      "\n",
      "QLoRA works by learning the normal patterns in the data and then flagging any data points that deviate too far from those patterns. It does this by analyzing the local neighborhood of each data point and comparing it to the neighborhoods of nearby points. If a data point's neighborhood is significantly different from those of its neighbors, QLoRA flags it as an anomaly.\n",
      "\n",
      "The quasiquantic and localized parts of the name refer to the fact that QLoRA is able to adapt to changing patterns in the data and can focus its analysis on specific regions of the data, rather than looking at the data as a whole. The randomized part refers to the fact that QLoRA uses a probabilistic\n"
     ]
    }
   ],
   "source": [
    "response = generate(model, tokenizer, prompt=\"Explain QLoRA in simple terms.\", verbose=True)\n",
    "print(response)"
   ]
  },
  {
   "cell_type": "code",
   "execution_count": null,
   "id": "2b5e6647",
   "metadata": {},
   "outputs": [],
   "source": []
  }
 ],
 "metadata": {
  "kernelspec": {
   "display_name": "mlx-m1",
   "language": "python",
   "name": "python3"
  },
  "language_info": {
   "codemirror_mode": {
    "name": "ipython",
    "version": 3
   },
   "file_extension": ".py",
   "mimetype": "text/x-python",
   "name": "python",
   "nbconvert_exporter": "python",
   "pygments_lexer": "ipython3",
   "version": "3.11.8"
  }
 },
 "nbformat": 4,
 "nbformat_minor": 5
}

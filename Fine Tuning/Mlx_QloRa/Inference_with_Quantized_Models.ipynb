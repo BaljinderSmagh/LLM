{
 "cells": [
  {
   "cell_type": "code",
   "execution_count": 1,
   "id": "b07ebbd2",
   "metadata": {},
   "outputs": [],
   "source": [
    "from mlx_lm import load, generate"
   ]
  },
  {
   "cell_type": "code",
   "execution_count": 2,
   "id": "0cce4a85",
   "metadata": {},
   "outputs": [
    {
     "data": {
      "application/vnd.jupyter.widget-view+json": {
       "model_id": "ebac41bf6c4141b687703eb0e4e5a14c",
       "version_major": 2,
       "version_minor": 0
      },
      "text/plain": [
       "Fetching 7 files:   0%|          | 0/7 [00:00<?, ?it/s]"
      ]
     },
     "metadata": {},
     "output_type": "display_data"
    },
    {
     "name": "stdout",
     "output_type": "stream",
     "text": [
      "==========\n",
      "\n",
      "\n",
      "QLoRA stands for \"Quantum Leap Object-Relational Algebra,\" which is a new way to process data using quantum computers. In simple terms, QLoRA is like a set of rules or instructions for manipulating data in a quantum database, just like how SQL (Structured Query Language) is used to manage data in classical databases.\n",
      "\n",
      "QLoRA allows us to perform complex data analysis and processing tasks much faster than classical methods by taking advantage of the unique properties of quantum computing, such as superposition and entanglement. This can lead to significant improvements in areas like machine learning, optimization, and data analytics.\n",
      "\n",
      "So, in essence, QLoRA is a quantum version of the traditional database query language, designed to make the most of the power of quantum computing for data processing.\n",
      "==========\n",
      "Prompt: 10 tokens, 29.251 tokens-per-sec\n",
      "Generation: 170 tokens, 14.578 tokens-per-sec\n",
      "Peak memory: 4.314 GB\n"
     ]
    }
   ],
   "source": [
    "model, tokenizer = load(\"mlx-community/Mistral-7B-Instruct-v0.2-4bit\")\n",
    "response = generate(model, tokenizer, prompt=\"Explain QLoRA in simple terms!\", verbose=True)"
   ]
  },
  {
   "cell_type": "code",
   "execution_count": null,
   "id": "2b5e6647",
   "metadata": {},
   "outputs": [],
   "source": []
  }
 ],
 "metadata": {
  "kernelspec": {
   "display_name": "mlx-m1",
   "language": "python",
   "name": "python3"
  },
  "language_info": {
   "codemirror_mode": {
    "name": "ipython",
    "version": 3
   },
   "file_extension": ".py",
   "mimetype": "text/x-python",
   "name": "python",
   "nbconvert_exporter": "python",
   "pygments_lexer": "ipython3",
   "version": "3.11.8"
  }
 },
 "nbformat": 4,
 "nbformat_minor": 5
}

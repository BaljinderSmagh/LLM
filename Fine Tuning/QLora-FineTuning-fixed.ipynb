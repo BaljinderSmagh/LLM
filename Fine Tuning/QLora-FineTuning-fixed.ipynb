{
 "cells": [
  {
   "cell_type": "code",
   "execution_count": null,
   "metadata": {
    "colab": {
     "base_uri": "https://localhost:8080/"
    },
    "executionInfo": {
     "elapsed": 18394,
     "status": "ok",
     "timestamp": 1745290233714,
     "user": {
      "displayName": "Baljinder smagh",
      "userId": "14730183342847554676"
     },
     "user_tz": 300
    },
    "id": "MxcLbzbQZzLr",
    "outputId": "c6731c3e-70c7-4119-c3d4-6132c5009b6d"
   },
   "outputs": [],
   "source": [
    "from google.colab import drive\n",
    "drive.mount('/content/drive')\n"
   ]
  },
  {
   "cell_type": "code",
   "execution_count": null,
   "metadata": {
    "colab": {
     "base_uri": "https://localhost:8080/"
    },
    "executionInfo": {
     "elapsed": 90530,
     "status": "ok",
     "timestamp": 1745279576652,
     "user": {
      "displayName": "Baljinder smagh",
      "userId": "14730183342847554676"
     },
     "user_tz": 300
    },
    "id": "Kz4Y3l7FvWf_",
    "outputId": "d3df6aec-1966-4dbd-a2a6-396bae04de6f"
   },
   "outputs": [],
   "source": [
    "!pip install transformers peft accelerate datasets bitsandbytes\n"
   ]
  },
  {
   "cell_type": "code",
   "execution_count": null,
   "metadata": {
    "executionInfo": {
     "elapsed": 25159,
     "status": "ok",
     "timestamp": 1745279613828,
     "user": {
      "displayName": "Baljinder smagh",
      "userId": "14730183342847554676"
     },
     "user_tz": 300
    },
    "id": "IancFsagU8XL"
   },
   "outputs": [],
   "source": [
    "from transformers import AutoModelForCausalLM, AutoTokenizer, TrainingArguments, Trainer\n",
    "from peft import prepare_model_for_kbit_training, LoraConfig, get_peft_model\n",
    "from datasets import load_dataset"
   ]
  },
  {
   "cell_type": "code",
   "execution_count": null,
   "metadata": {
    "colab": {
     "base_uri": "https://localhost:8080/",
     "height": 237,
     "referenced_widgets": [
      "f7a64e8f358745a585049636706cbaf9",
      "76846dae4f3447bba7373e4b2313a2d4",
      "9de2cd0fea424a6d92274b1222aaa8fd",
      "fa340389bf734f818425328c7c770c8f",
      "6a10ac9358e244968ad5bfa7098c504a",
      "26a90088d16e4dfda9387e4d0b0f90e0",
      "6d30b9c0b219424e8f9f4ff57e00afca",
      "b741031e550c415c91f213e085ac3950",
      "46f2c351f8e44eda8c5a3bb41131d076",
      "7e132a3197314e519a37b9f0c5f02cf3",
      "71657ca1dc8e42f0b2306bab59bb6d75",
      "0e9ae3b0c9a84362b32d3ae9008b263d",
      "1092c7a7a20f4cdfb8c2803d7028f7e9",
      "fd67a12e73c6487fae210d66c66d8713",
      "574af20e9c33415181363d07a099a4d1",
      "9908239642d4414ab1b9e2b07639aeee",
      "7a4d8b555dde4b2594d8a4c95532b9bf",
      "a50ff47b81c64b979c80210a01313ece",
      "2bc6874bab794b24ba0d8c26825560fc",
      "f19d5a8329484e7c848e739b729b16bd",
      "417d8b23496c4c079a6e75cd99e84885",
      "9ee3813331b24652ad50841d88cdb438",
      "82dfc15c351d40c1802b7c7a165a8598",
      "d6ba2ddae3a0418e83a1218c17cea07f",
      "e501b38f76a44f8d95328da6150122fd",
      "70364506bc2f4fdd88f5a07b514935fd",
      "d6da6fd292a6442da98b9512365dbd92",
      "f8209348c31742e8afc7b4f5bfda29e9",
      "37a7dbd4fb014b8dad82148df1dd3acb",
      "3f420f4535504d8799dbf577ca35113c",
      "f132b9f1422d4facbbf760f4d98ff44b",
      "673b380a6b5f48be9657159f0358275b",
      "7b8d6950d1ff4ac482248effbe99020b"
     ]
    },
    "executionInfo": {
     "elapsed": 6219,
     "status": "ok",
     "timestamp": 1745279623631,
     "user": {
      "displayName": "Baljinder smagh",
      "userId": "14730183342847554676"
     },
     "user_tz": 300
    },
    "id": "2nZ_74_qXebG",
    "outputId": "76db0086-0676-43d9-9fc9-429430f04f6d"
   },
   "outputs": [],
   "source": [
    "model_name = \"tiiuae/falcon-rw-1b\"\n",
    "dataset = load_dataset(\"databricks/databricks-dolly-15k\")"
   ]
  },
  {
   "cell_type": "code",
   "execution_count": null,
   "metadata": {
    "colab": {
     "base_uri": "https://localhost:8080/",
     "height": 177,
     "referenced_widgets": [
      "6ae48216fd464e899ed95fc1fa0775bf",
      "598f14ce3a6a4686962a493d25581292",
      "c189b3a4ea1e43abbded1a849fb520be",
      "59faba38a4a44550b8c778b07cb219c1",
      "7f12a7b766b243a9abc3f41547fbf62b",
      "eb74d882257e4be3bc5008a399505e82",
      "6532b1217d6c42849502d95a3c0e3693",
      "bbe622f21d1a47a0bcf4607c09be4fba",
      "caeb2e5f4c7b404c896521290c13cae8",
      "1bf3b8d9b6dc4545a8379d13439bdcd4",
      "6e69a9ef8b4743a28cb252d06a7c191e",
      "6698dbba45964a87addb6a273cdd5982",
      "fd6371d9c4b94ccc913076fb63a45b9c",
      "4cd7f9d07c89464d848af378c3a84e12",
      "ca69d3d32d124722ba13c844c92032ca",
      "54f9343ff2a44924a42b91f160886fdd",
      "2f1370b1beb6492ab63b186d3e582221",
      "7871fe21306c456bbe8f471625167b87",
      "adc58f5c049e48f18dff7e76d4d685d8",
      "77858780f4f24ec19f7ee1cc4a16ed74",
      "ced7e8a8f8844f29b47131ebbcf53a97",
      "20ef8bf4e6484727be27b9ffa1e81724",
      "187163c73cf3442b8370acc2c01eefff",
      "18108d68331e4d1e89a5118413584c7e",
      "fe60268eb172455fb59ebc04cfb0029a",
      "e2e9800b89cc49fe8fcf5e74051acd0d",
      "5637375bcb2046c1aa0a7468afe0ed68",
      "5e3c36cadbdb473abf0775f894b04131",
      "69df726259f54b2fb492e50220bb732f",
      "0ce566867cd44041b3ddd318abfd2e35",
      "c184e49eb2694525ae6967bda324aa9f",
      "087da64549f64b8e9bd6e51fa66cf811",
      "b576f02278984fda8132b9b07d786669",
      "cd0b2fb77d6b48b09ab9ee5f71b12c0e",
      "e6d17a060efc42f48f07312f4559562e",
      "bd96763a8ab64b909cfb4e23c5167e1c",
      "745b9d64db8a4975a1781d74d9a1f2fc",
      "0276edb74c554f78bfc7c9df1a37824e",
      "f908734a183249b1bfc4efffe602fc94",
      "49785fc8f0b747c8a40e552af462701f",
      "6225afd19b274460a79cf0b767a264c4",
      "bc7306a69ad44949bf8f88884df6c26c",
      "396f1d78336d488780c3a8833b877806",
      "f6ca41c9b37a477e949590d2c83769fb",
      "51200ba03c44455fbb0e7ab7777c6abd",
      "9869916cab2a4bd1a2a73131d83e3f53",
      "e9c5bb93bb104826a96645c3b65fa142",
      "dc3ef6dc68b343b5b9f0869013c179b1",
      "95f9078edd8c4a39ac027a539ec9378e",
      "bcd4331538b743848ad7b2a974ffaabc",
      "dcce6aa4f63a453ba47a3f5360576069",
      "9ec1f40ab1494ae38bf15cefcd1f89e0",
      "14a328b9980d4ef0ad394f95653dd926",
      "4e8ae3a503754a11a261249e63591be8",
      "ddb61363e09148c98785c0d85ad21b8f"
     ]
    },
    "executionInfo": {
     "elapsed": 4969,
     "status": "ok",
     "timestamp": 1745279630990,
     "user": {
      "displayName": "Baljinder smagh",
      "userId": "14730183342847554676"
     },
     "user_tz": 300
    },
    "id": "YQ6FoYVQX49j",
    "outputId": "8bc3f3e8-0ced-47b8-c21c-cc89ed4099d7"
   },
   "outputs": [],
   "source": [
    "tokenizer = AutoTokenizer.from_pretrained(model_name, trust_remote_code=True)\n",
    "tokenizer.pad_token = tokenizer.eos_token"
   ]
  },
  {
   "cell_type": "code",
   "execution_count": null,
   "metadata": {
    "colab": {
     "base_uri": "https://localhost:8080/",
     "height": 182,
     "referenced_widgets": [
      "8645b5ffcd6a44a4ae217321be433fc1",
      "014520f4acf44186a09e8d9a976ab7b8",
      "feae2895132641b0a11e938f5f28a11e",
      "36ec9c5ea3aa47ecbe8ba574a7401c64",
      "76ec108e1acf469983538b081634d141",
      "83d8a88cf8854b4ba6bc97c29d3e4351",
      "57d01eecfebe43dba95fb9ae3611a2d2",
      "4d65642690444d05be2dbf552aa1afb8",
      "5ce11ad5d9144b43ae5d686077bddf06",
      "9f3b8956dcf841a080affc40aec9ed04",
      "0e657bda70684227ae01961ee1c6eea7",
      "ddb7fa8e55d74f77af9d79f8fd2e088a",
      "d970961732b34e929a8591e6fd19314d",
      "236f74d3fc874946a4b002da8102bf18",
      "277695946875426da224203785693e26",
      "a66a3fc3acbf4c86be61b3f19fa74f27",
      "64d6701f9f0143518ea38c6753e70862",
      "91af3ee6aef446d0a9a2ecbcefeca486",
      "7c56a1403ee14f8bb64160d874a1f896",
      "7f072134edaa440e95ce93799ddf7698",
      "a55c66b4bb2d4497a44d4cc54891003e",
      "813eea40fb154b6b8341de38166adc16",
      "bfcfb384d3794f36b84b42f6d43c0231",
      "1c07f17502af40efa0afc7288b298563",
      "75b40ff287a9412eaed34536536612ba",
      "f8ff73e031ec49e98deb53990692040b",
      "dea17101e96d464fbdfb889795f6b144",
      "0b8e6dd66c8642c68a70ae38e74b3ad0",
      "98a8a5de30c64312b34cf4c05ef0b00a",
      "9dbcfa3ef9494b04a8e4ad93d8c43b38",
      "d141332041094b178595fe14060bf5df",
      "515be5fc1a4f4226accca48a0cb38f05",
      "3004d93983fc46a28cd33497e7c7f205",
      "e61269ab3cfc435589a9854bb30f032e",
      "43353ba17a0c40b68fc4ac205533b9d5",
      "ab803984869244dabf5ef8ea1b412bef",
      "b38b1c47998f4909b5844af81c6227bd",
      "6b9b058968f242c69f3787ae48ede4e9",
      "e570c2130ac0444b885a63cd562adebd",
      "eb9572bebb234d7096548632b13b37e7",
      "40b960c2e3b94ba5a283ba354f3da2c4",
      "be11fa0ca9ed49b8ad4818098add2df2",
      "8872ee5b92d34097bb0237adbd17c8f9",
      "550685c6ca14445591e759845bff7cfe"
     ]
    },
    "executionInfo": {
     "elapsed": 22055,
     "status": "ok",
     "timestamp": 1745279654795,
     "user": {
      "displayName": "Baljinder smagh",
      "userId": "14730183342847554676"
     },
     "user_tz": 300
    },
    "id": "B3rIzakGX904",
    "outputId": "e4203d76-14be-44b5-ca16-de2bdb6598ab"
   },
   "outputs": [],
   "source": [
    "model = AutoModelForCausalLM.from_pretrained(\n",
    "    model_name,\n",
    "    load_in_4bit=True,\n",
    "    device_map=\"auto\",\n",
    "    trust_remote_code=False,\n",
    "    revision=\"main\"\n",
    ")"
   ]
  },
  {
   "cell_type": "code",
   "execution_count": null,
   "metadata": {
    "executionInfo": {
     "elapsed": 1,
     "status": "ok",
     "timestamp": 1745279663354,
     "user": {
      "displayName": "Baljinder smagh",
      "userId": "14730183342847554676"
     },
     "user_tz": 300
    },
    "id": "nyrgN1mZZSQ7"
   },
   "outputs": [],
   "source": [
    "model = prepare_model_for_kbit_training(model)"
   ]
  },
  {
   "cell_type": "code",
   "execution_count": null,
   "metadata": {
    "executionInfo": {
     "elapsed": 40,
     "status": "ok",
     "timestamp": 1745279665815,
     "user": {
      "displayName": "Baljinder smagh",
      "userId": "14730183342847554676"
     },
     "user_tz": 300
    },
    "id": "J-du1y_rZTM1"
   },
   "outputs": [],
   "source": [
    "# Add LoRA adapters\n",
    "peft_config = LoraConfig(\n",
    "    r=8,\n",
    "    lora_alpha=32,\n",
    "    target_modules=[\"query_key_value\"],  # change per model\n",
    "    lora_dropout=0.05,\n",
    "    bias=\"none\",\n",
    "    task_type=\"CAUSAL_LM\"\n",
    ")"
   ]
  },
  {
   "cell_type": "code",
   "execution_count": null,
   "metadata": {
    "executionInfo": {
     "elapsed": 1553,
     "status": "ok",
     "timestamp": 1745279668980,
     "user": {
      "displayName": "Baljinder smagh",
      "userId": "14730183342847554676"
     },
     "user_tz": 300
    },
    "id": "cVLNaiuSZXFF"
   },
   "outputs": [],
   "source": [
    "model = get_peft_model(model, peft_config)"
   ]
  },
  {
   "cell_type": "code",
   "execution_count": null,
   "metadata": {
    "executionInfo": {
     "elapsed": 7,
     "status": "ok",
     "timestamp": 1745279671009,
     "user": {
      "displayName": "Baljinder smagh",
      "userId": "14730183342847554676"
     },
     "user_tz": 300
    },
    "id": "1NSq3PqnZY7p"
   },
   "outputs": [],
   "source": [
    "def tokenize(example):\n",
    "    tokens = tokenizer(\n",
    "        example['instruction'] + \"\\n\" + example['response'],\n",
    "        truncation=True,\n",
    "        padding=\"max_length\",\n",
    "        max_length=256\n",
    "    )\n",
    "    tokens[\"labels\"] = tokens[\"input_ids\"].copy()  # 👈 add this line\n",
    "    return tokens"
   ]
  },
  {
   "cell_type": "code",
   "execution_count": null,
   "metadata": {
    "colab": {
     "base_uri": "https://localhost:8080/",
     "height": 49,
     "referenced_widgets": [
      "56aea09e4a424147accb31fc23f8dcb1",
      "16cc6bc1f822429b90701b95f81fffb5",
      "f7b2bed911ad4cf4aed81791ce7eee39",
      "4e7d522227e744cc9513d27d97e9bb97",
      "1f2b7be9121c460492b1ddd476adce1b",
      "212084039db14556b5467651d1a32195",
      "0d4cb76caf6042c3bf8d8907e13bfdd9",
      "39a1504f685a4c63800e8659a95b839c",
      "975a18ae897f464d85f1b41d9a874244",
      "535ceaa7044b4d348462daff72d8dc86",
      "645627d0edf445de8716497640d3f22c"
     ]
    },
    "executionInfo": {
     "elapsed": 19107,
     "status": "ok",
     "timestamp": 1745279691837,
     "user": {
      "displayName": "Baljinder smagh",
      "userId": "14730183342847554676"
     },
     "user_tz": 300
    },
    "id": "ni2t4uQtMMP0",
    "outputId": "be850985-3275-423a-a07a-fe75f272ed4a"
   },
   "outputs": [],
   "source": [
    "tokenized_data = dataset['train'].map(tokenize)\n",
    "train_dataset=tokenized_data.select(range(2000))  # Try 1k–2k samples first"
   ]
  },
  {
   "cell_type": "code",
   "execution_count": null,
   "metadata": {
    "executionInfo": {
     "elapsed": 7,
     "status": "ok",
     "timestamp": 1745279693327,
     "user": {
      "displayName": "Baljinder smagh",
      "userId": "14730183342847554676"
     },
     "user_tz": 300
    },
    "id": "MBFLtnwmZcZ2"
   },
   "outputs": [],
   "source": [
    "model.gradient_checkpointing_enable()"
   ]
  },
  {
   "cell_type": "code",
   "execution_count": null,
   "metadata": {
    "executionInfo": {
     "elapsed": 61,
     "status": "ok",
     "timestamp": 1745279695536,
     "user": {
      "displayName": "Baljinder smagh",
      "userId": "14730183342847554676"
     },
     "user_tz": 300
    },
    "id": "bORE7xfBMQ_3"
   },
   "outputs": [],
   "source": [
    "# Training\n",
    "training_args = TrainingArguments(\n",
    "    per_device_train_batch_size=4,\n",
    "    num_train_epochs=2,\n",
    "    logging_dir=\"./logs\",\n",
    "    output_dir=\"./qlora-finetuned-model\",\n",
    "    save_strategy=\"steps\",\n",
    "    save_steps=500,\n",
    "    fp16=True\n",
    ")"
   ]
  },
  {
   "cell_type": "code",
   "execution_count": null,
   "metadata": {
    "colab": {
     "base_uri": "https://localhost:8080/"
    },
    "executionInfo": {
     "elapsed": 2773,
     "status": "ok",
     "timestamp": 1745279701093,
     "user": {
      "displayName": "Baljinder smagh",
      "userId": "14730183342847554676"
     },
     "user_tz": 300
    },
    "id": "T2HNWyNCMVTi",
    "outputId": "0373c078-b7d2-478c-a69d-6f17bb43b248"
   },
   "outputs": [],
   "source": [
    "trainer = Trainer(\n",
    "    model=model,\n",
    "    train_dataset=train_dataset,\n",
    "    tokenizer=tokenizer,\n",
    "    args=training_args\n",
    ")"
   ]
  },
  {
   "cell_type": "code",
   "execution_count": null,
   "metadata": {
    "colab": {
     "base_uri": "https://localhost:8080/",
     "height": 471
    },
    "executionInfo": {
     "elapsed": 771153,
     "status": "ok",
     "timestamp": 1745280519775,
     "user": {
      "displayName": "Baljinder smagh",
      "userId": "14730183342847554676"
     },
     "user_tz": 300
    },
    "id": "fxKx8FmrMbpX",
    "outputId": "70c95511-5e6d-4c9b-d416-da1e1bc541db"
   },
   "outputs": [],
   "source": [
    "from transformers.trainer_utils import get_last_checkpoint\n",
    "\n",
    "output_dir = \"./qlora-finetuned-model\"\n",
    "checkpoint = get_last_checkpoint(output_dir)\n",
    "\n",
    "trainer.train(resume_from_checkpoint=checkpoint if checkpoint else None)"
   ]
  },
  {
   "cell_type": "code",
   "execution_count": null,
   "metadata": {
    "executionInfo": {
     "elapsed": 4881,
     "status": "ok",
     "timestamp": 1745280530084,
     "user": {
      "displayName": "Baljinder smagh",
      "userId": "14730183342847554676"
     },
     "user_tz": 300
    },
    "id": "i-K7yRbMf9QQ"
   },
   "outputs": [],
   "source": [
    "model.save_pretrained(\"qlora-lora-only\")  #  this saves adapter_config.json + adapter_model.bin\n"
   ]
  },
  {
   "cell_type": "code",
   "execution_count": null,
   "metadata": {
    "executionInfo": {
     "elapsed": 2,
     "status": "ok",
     "timestamp": 1745280590097,
     "user": {
      "displayName": "Baljinder smagh",
      "userId": "14730183342847554676"
     },
     "user_tz": 300
    },
    "id": "9FLxzJmFfVGK"
   },
   "outputs": [],
   "source": [
    "from transformers import AutoTokenizer, AutoModelForCausalLM\n",
    "from peft import PeftModel, PeftConfig\n",
    "\n",
    "base_model = \"tiiuae/falcon-rw-1b\"  # or whatever you used\n",
    "peft_model_path = \"./qlora-finetuned-model\"  # your output_dir\n"
   ]
  },
  {
   "cell_type": "code",
   "execution_count": null,
   "metadata": {
    "executionInfo": {
     "elapsed": 456,
     "status": "ok",
     "timestamp": 1745280592745,
     "user": {
      "displayName": "Baljinder smagh",
      "userId": "14730183342847554676"
     },
     "user_tz": 300
    },
    "id": "1FLGrBWCfoSn"
   },
   "outputs": [],
   "source": [
    "# Load tokenizer\n",
    "tokenizer = AutoTokenizer.from_pretrained(base_model)"
   ]
  },
  {
   "cell_type": "code",
   "execution_count": null,
   "metadata": {
    "executionInfo": {
     "elapsed": 42,
     "status": "ok",
     "timestamp": 1745280655403,
     "user": {
      "displayName": "Baljinder smagh",
      "userId": "14730183342847554676"
     },
     "user_tz": 300
    },
    "id": "X-E3ksV2gZA5"
   },
   "outputs": [],
   "source": [
    "from transformers import BitsAndBytesConfig\n",
    "\n",
    "bnb_config = BitsAndBytesConfig(\n",
    "    load_in_4bit=True,\n",
    "    bnb_4bit_compute_dtype=\"float16\",  # or \"bfloat16\" if supported\n",
    "    bnb_4bit_use_double_quant=True,\n",
    "    bnb_4bit_quant_type=\"nf4\"\n",
    ")"
   ]
  },
  {
   "cell_type": "code",
   "execution_count": null,
   "metadata": {
    "colab": {
     "base_uri": "https://localhost:8080/"
    },
    "executionInfo": {
     "elapsed": 8166,
     "status": "ok",
     "timestamp": 1745280719009,
     "user": {
      "displayName": "Baljinder smagh",
      "userId": "14730183342847554676"
     },
     "user_tz": 300
    },
    "id": "uZWXnenvfqOG",
    "outputId": "8ad16189-044c-459e-9d93-3af14ad642fa"
   },
   "outputs": [],
   "source": [
    "# Load model with LoRA adapter\n",
    "model = AutoModelForCausalLM.from_pretrained(base_model, quantization_config=bnb_config, device_map=\"auto\")\n",
    "model = PeftModel.from_pretrained(model, \"qlora-lora-only\")\n",
    "model.eval()"
   ]
  },
  {
   "cell_type": "code",
   "execution_count": null,
   "metadata": {
    "colab": {
     "base_uri": "https://localhost:8080/"
    },
    "executionInfo": {
     "elapsed": 6633,
     "status": "ok",
     "timestamp": 1745280880953,
     "user": {
      "displayName": "Baljinder smagh",
      "userId": "14730183342847554676"
     },
     "user_tz": 300
    },
    "id": "iK7-gAag1jej",
    "outputId": "acfc2e96-a7b0-4776-acc2-642803164abe"
   },
   "outputs": [],
   "source": [
    "# Inference\n",
    "prompt = \"Explain why the sky is blue.\"\n",
    "input_ids = tokenizer(prompt, return_tensors=\"pt\").input_ids.to(model.device)\n",
    "\n",
    "output = model.generate(input_ids, max_new_tokens=100, do_sample=True)\n",
    "decoded = tokenizer.decode(output[0], skip_special_tokens=True)\n"
   ]
  },
  {
   "cell_type": "code",
   "execution_count": null,
   "metadata": {
    "colab": {
     "base_uri": "https://localhost:8080/"
    },
    "executionInfo": {
     "elapsed": 6,
     "status": "ok",
     "timestamp": 1745280882133,
     "user": {
      "displayName": "Baljinder smagh",
      "userId": "14730183342847554676"
     },
     "user_tz": 300
    },
    "id": "PJMwp1Kt2L4K",
    "outputId": "cb4fff1f-7885-4b96-d708-10f017cb0f6b"
   },
   "outputs": [],
   "source": [
    "print(\"\\n=== Generated Response ===\\n\")\n",
    "print(decoded.replace(\"\\\\n\", \"\\n\"))\n",
    "print(\"\\n==========================\\n\")"
   ]
  },
  {
   "cell_type": "code",
   "execution_count": null,
   "metadata": {
    "colab": {
     "base_uri": "https://localhost:8080/"
    },
    "id": "IsVk14o7aiSX",
    "outputId": "51ef0786-06af-487c-e3e5-ca1548a9f4e4"
   },
   "outputs": [],
   "source": [
    "!find /content/drive -name \"*QLora-FineTuning*.ipynb\"\n"
   ]
  }
 ],
 "metadata": {
  "accelerator": "GPU",
  "colab": {
   "authorship_tag": "ABX9TyPMlM5edz/suHoxAcb7/aS1",
   "gpuType": "T4",
   "provenance": [],
   "toc_visible": true
  },
  "kernelspec": {
   "display_name": "Python 3",
   "name": "python3"
  },
  "language_info": {
   "name": "python"
  }
 },
 "nbformat": 4,
 "nbformat_minor": 0
}

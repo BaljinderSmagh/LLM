{
 "cells": [
  {
   "cell_type": "markdown",
   "id": "0b324bf9",
   "metadata": {},
   "source": [
    "# 📓 LoRA Evaluation Notebook for Seq2Seq Models (Apple M1/M2/M3 Friendly)"
   ]
  },
  {
   "cell_type": "code",
   "execution_count": 9,
   "id": "6eabe71d",
   "metadata": {},
   "outputs": [],
   "source": [
    "\n",
    "import time\n",
    "from transformers import AutoTokenizer, AutoModelForSeq2SeqLM\n",
    "from peft import PeftModelForSeq2SeqLM\n",
    "from pathlib import Path\n",
    "\n"
   ]
  },
  {
   "cell_type": "markdown",
   "id": "9080074c",
   "metadata": {},
   "source": [
    "# ✅ Choose your model and LoRA adapter"
   ]
  },
  {
   "cell_type": "code",
   "execution_count": null,
   "id": "38375313",
   "metadata": {},
   "outputs": [],
   "source": [
    "\n",
    "model_path = \"google/flan-t5-small\"\n",
    "adapter_pathlora_path = \"/lora-output\"  # Or set to None if not using LoRA\n",
    "adapter_path = Path(\"../lora-output\").resolve()\n",
    "prompt = \"What is the chemical formula for water?\"\n"
   ]
  },
  {
   "cell_type": "markdown",
   "id": "35a957cf",
   "metadata": {},
   "source": [
    "# Load tokenizer and model"
   ]
  },
  {
   "cell_type": "code",
   "execution_count": 4,
   "id": "b2781464",
   "metadata": {},
   "outputs": [
    {
     "name": "stdout",
     "output_type": "stream",
     "text": [
      "🔄 Loading tokenizer and model...\n"
     ]
    }
   ],
   "source": [
    "\n",
    "print(\"🔄 Loading tokenizer and model...\")\n",
    "tokenizer = AutoTokenizer.from_pretrained(model_path)\n",
    "model = AutoModelForSeq2SeqLM.from_pretrained(model_path)"
   ]
  },
  {
   "cell_type": "code",
   "execution_count": 8,
   "id": "49cacdb3",
   "metadata": {},
   "outputs": [
    {
     "data": {
      "text/plain": [
       "'/Users/suraj/Downloads/LLM/model-compression/notebooks'"
      ]
     },
     "execution_count": 8,
     "metadata": {},
     "output_type": "execute_result"
    }
   ],
   "source": [
    "pwd"
   ]
  },
  {
   "cell_type": "code",
   "execution_count": 11,
   "id": "d151ab63",
   "metadata": {},
   "outputs": [
    {
     "name": "stdout",
     "output_type": "stream",
     "text": [
      " Applying LoRA adapter from: /lora-output\n"
     ]
    }
   ],
   "source": [
    "# Apply LoRA if provided\n",
    "if lora_path:\n",
    "    print(f\" Applying LoRA adapter from: {lora_path}\")\n",
    "    model = PeftModelForSeq2SeqLM.from_pretrained(model, str(adapter_path))\n",
    "\n",
    "# Tokenize prompt\n",
    "inputs = tokenizer(prompt, return_tensors=\"pt\")\n",
    "\n"
   ]
  },
  {
   "cell_type": "code",
   "execution_count": 12,
   "id": "5d6bac68",
   "metadata": {},
   "outputs": [
    {
     "name": "stdout",
     "output_type": "stream",
     "text": [
      "⚡ Generating response...\n"
     ]
    }
   ],
   "source": [
    "# Generate output\n",
    "print(\"⚡ Generating response...\")\n",
    "start = time.time()\n",
    "outputs = model.generate(input_ids=inputs.input_ids, max_new_tokens=50)\n",
    "end = time.time()"
   ]
  },
  {
   "cell_type": "code",
   "execution_count": 13,
   "id": "bbd9b5f8",
   "metadata": {},
   "outputs": [
    {
     "name": "stdout",
     "output_type": "stream",
     "text": [
      "\n",
      "🗨️  Response: a sulphur\n",
      "⏱️  Latency: 0.551 sec\n"
     ]
    }
   ],
   "source": [
    "# Decode\n",
    "response = tokenizer.decode(outputs[0], skip_special_tokens=True)\n",
    "print(\"\\n🗨️  Response:\", response)\n",
    "print(f\"⏱️  Latency: {end - start:.3f} sec\")\n"
   ]
  },
  {
   "cell_type": "code",
   "execution_count": 14,
   "id": "b16cb293",
   "metadata": {},
   "outputs": [
    {
     "name": "stdout",
     "output_type": "stream",
     "text": [
      "📦 Approx model size: 309.22 MB\n"
     ]
    }
   ],
   "source": [
    "# Estimate model size\n",
    "size_mb = round(sum(p.numel() * p.element_size() for p in model.parameters()) / 1e6, 2)\n",
    "print(f\"📦 Approx model size: {size_mb} MB\")"
   ]
  }
 ],
 "metadata": {
  "kernelspec": {
   "display_name": "mlx-m1",
   "language": "python",
   "name": "python3"
  },
  "language_info": {
   "codemirror_mode": {
    "name": "ipython",
    "version": 3
   },
   "file_extension": ".py",
   "mimetype": "text/x-python",
   "name": "python",
   "nbconvert_exporter": "python",
   "pygments_lexer": "ipython3",
   "version": "3.11.8"
  }
 },
 "nbformat": 4,
 "nbformat_minor": 5
}
